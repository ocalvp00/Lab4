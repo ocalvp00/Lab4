{
  "nbformat": 4,
  "nbformat_minor": 0,
  "metadata": {
    "colab": {
      "provenance": [],
      "authorship_tag": "ABX9TyOiUaY2q8QInAVq0Xk72Nl0",
      "include_colab_link": true
    },
    "kernelspec": {
      "name": "python3",
      "display_name": "Python 3"
    },
    "language_info": {
      "name": "python"
    }
  },
  "cells": [
    {
      "cell_type": "markdown",
      "metadata": {
        "id": "view-in-github",
        "colab_type": "text"
      },
      "source": [
        "<a href=\"https://colab.research.google.com/github/ocalvp00/Lab4/blob/main/Untitled0.ipynb\" target=\"_parent\"><img src=\"https://colab.research.google.com/assets/colab-badge.svg\" alt=\"Open In Colab\"/></a>"
      ]
    },
    {
      "cell_type": "code",
      "execution_count": null,
      "metadata": {
        "id": "gCHd2_QgIDyt"
      },
      "outputs": [],
      "source": [
        "def dfs_non_recursive(graph, start):\n",
        "    visited = set()\n",
        "    stack = [start]\n",
        "\n",
        "    while stack:\n",
        "        current_node = stack.pop()\n",
        "        if current_node not in visited:\n",
        "            print(current_node, end=' ')\n",
        "            visited.add(current_node)\n",
        "            stack.extend(neighbor for neighbor in graph.get(current_node, []) if neighbor not in visited)\n",
        "\n",
        "graph = {\n",
        "    'A': ['B', 'C', 'D'],\n",
        "    'B': ['E'],\n",
        "    'C': ['F', 'G'],\n",
        "    'D': ['H'],\n",
        "    'E': ['I'],\n",
        "    'F': ['J'],\n",
        "    'G': [],\n",
        "    'H': [],\n",
        "    'I': [],\n",
        "    'J': []\n",
        "}\n",
        "\n",
        "print(\"Order of DFS(Non-Recursive): \")\n",
        "dfs_non_recursive(graph, 'A')\n"
      ]
    }
  ]
}