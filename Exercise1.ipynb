{
  "nbformat": 4,
  "nbformat_minor": 0,
  "metadata": {
    "colab": {
      "provenance": [],
      "authorship_tag": "ABX9TyMqd8FkjeSL/uIJeGXwurnG",
      "include_colab_link": true
    },
    "kernelspec": {
      "name": "python3",
      "display_name": "Python 3"
    },
    "language_info": {
      "name": "python"
    }
  },
  "cells": [
    {
      "cell_type": "markdown",
      "metadata": {
        "id": "view-in-github",
        "colab_type": "text"
      },
      "source": [
        "<a href=\"https://colab.research.google.com/github/ocalvp00/Lab4/blob/main/Exercise1.ipynb\" target=\"_parent\"><img src=\"https://colab.research.google.com/assets/colab-badge.svg\" alt=\"Open In Colab\"/></a>"
      ]
    },
    {
      "cell_type": "code",
      "execution_count": 3,
      "metadata": {
        "colab": {
          "base_uri": "https://localhost:8080/"
        },
        "id": "db8PVNVhGLnW",
        "outputId": "bffe337a-2322-421e-e1c0-1c9f19e4a3ff"
      },
      "outputs": [
        {
          "output_type": "stream",
          "name": "stdout",
          "text": [
            "Order of DFS: \n",
            "A B E I C F J G D H "
          ]
        }
      ],
      "source": [
        "def dfs(graph, start, visited=None):\n",
        "    if visited is None:\n",
        "        visited = set()\n",
        "\n",
        "    print(start, end=' ')\n",
        "    visited.add(start)\n",
        "\n",
        "    for neighbor in graph.get(start, []):\n",
        "        if neighbor not in visited:\n",
        "            dfs(graph, neighbor, visited)\n",
        "\n",
        "graph = {\n",
        "    'A': ['B', 'C', 'D'],\n",
        "    'B': ['E'],\n",
        "    'C': ['F', 'G'],\n",
        "    'D': ['H'],\n",
        "    'E': ['I'],\n",
        "    'F': ['J'],\n",
        "    'G': [],\n",
        "    'H': [],\n",
        "    'I': [],\n",
        "    'J': []\n",
        "}\n",
        "\n",
        "print(\"Order of DFS: \")\n",
        "dfs(graph, 'A')\n"
      ]
    }
  ]
}